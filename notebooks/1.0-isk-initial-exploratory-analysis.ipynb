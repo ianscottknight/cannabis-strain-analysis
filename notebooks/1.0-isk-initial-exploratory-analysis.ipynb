{
 "cells": [
  {
   "cell_type": "code",
   "execution_count": null,
   "metadata": {},
   "outputs": [],
   "source": [
    "import fix_notebook_imports\n",
    "\n",
    "from cannabis_strain_analysis import util\n",
    "\n",
    "import os\n",
    "import collections\n",
    "import itertools\n",
    "\n",
    "import numpy as np\n",
    "import pandas as pd\n",
    "import matplotlib.pyplot as plt"
   ]
  },
  {
   "cell_type": "code",
   "execution_count": null,
   "metadata": {},
   "outputs": [],
   "source": [
    "CANNABIS_PATH = os.path.join(util.DATA_RAW_DIR, \"cannabis.csv\")"
   ]
  },
  {
   "cell_type": "code",
   "execution_count": null,
   "metadata": {},
   "outputs": [],
   "source": [
    "df = pd.read_csv(CANNABIS_PATH)"
   ]
  },
  {
   "cell_type": "code",
   "execution_count": null,
   "metadata": {},
   "outputs": [],
   "source": [
    "df.head()"
   ]
  },
  {
   "cell_type": "code",
   "execution_count": null,
   "metadata": {},
   "outputs": [],
   "source": [
    "df[\"Effects\"] = [s.split(',') for s in df[\"Effects\"]]\n",
    "df.dropna(inplace=True)\n",
    "df[\"Flavor\"] = [s.split(',') for s in df[\"Flavor\"]]\n",
    "df.reset_index(inplace=True)"
   ]
  },
  {
   "cell_type": "code",
   "execution_count": null,
   "metadata": {},
   "outputs": [],
   "source": [
    "df"
   ]
  },
  {
   "cell_type": "code",
   "execution_count": null,
   "metadata": {},
   "outputs": [],
   "source": [
    "flavor_pair_count_dict = collections.defaultdict(int)\n",
    "\n",
    "for flavor_list in df[\"Flavor\"]:\n",
    "    for flavor_pair in itertools.combinations(flavor_list, 2):\n",
    "        flavor_pair_count_dict[flavor_pair] += 1"
   ]
  },
  {
   "cell_type": "code",
   "execution_count": null,
   "metadata": {},
   "outputs": [],
   "source": [
    "items_ordered = sorted(flavor_pair_count_dict.items(), key=lambda x: x[1], reverse=True)\n",
    "\n",
    "flavor_pair_count_dict = collections.OrderedDict()\n",
    "\n",
    "for key, value in items_ordered:\n",
    "    flavor_pair_count_dict[key] = value"
   ]
  },
  {
   "cell_type": "code",
   "execution_count": null,
   "metadata": {},
   "outputs": [],
   "source": [
    "flavor_pair_count_dict"
   ]
  },
  {
   "cell_type": "code",
   "execution_count": null,
   "metadata": {},
   "outputs": [],
   "source": []
  }
 ],
 "metadata": {
  "kernelspec": {
   "display_name": "Python 3",
   "language": "python",
   "name": "python3"
  },
  "language_info": {
   "codemirror_mode": {
    "name": "ipython",
    "version": 3
   },
   "file_extension": ".py",
   "mimetype": "text/x-python",
   "name": "python",
   "nbconvert_exporter": "python",
   "pygments_lexer": "ipython3",
   "version": "3.8.5"
  }
 },
 "nbformat": 4,
 "nbformat_minor": 4
}

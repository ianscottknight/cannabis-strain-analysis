{
 "cells": [
  {
   "cell_type": "markdown",
   "metadata": {},
   "source": [
    "# Cannabis Strain Anaslysis"
   ]
  },
  {
   "cell_type": "code",
   "execution_count": 13,
   "metadata": {},
   "outputs": [],
   "source": [
    "import os\n",
    "import collections\n",
    "import itertools\n",
    "\n",
    "from fastfm2 import als\n",
    "\n",
    "import numpy as np\n",
    "import pandas as pd\n",
    "import matplotlib.pyplot as plt\n",
    "from sklearn.model_selection import train_test_split\n",
    "from sklearn import metrics, linear_model\n",
    "from scipy import sparse\n"
   ]
  },
  {
   "cell_type": "markdown",
   "metadata": {},
   "source": [
    "## Load Data"
   ]
  },
  {
   "cell_type": "code",
   "execution_count": 2,
   "metadata": {},
   "outputs": [],
   "source": [
    "DATA_DIR = os.getcwd()\n",
    "CSV_PATH = os.path.join(DATA_DIR, \"cannabis.csv\")\n"
   ]
  },
  {
   "cell_type": "code",
   "execution_count": 3,
   "metadata": {},
   "outputs": [],
   "source": [
    "class CannabisStrainAnalysis:\n",
    "    def __init__(self, csv_path):\n",
    "        self.categorical_single_columns = [\"Type\"]\n",
    "        self.categorical_list_columns = [\"Effects\", \"Flavors\"]\n",
    "        \n",
    "        self.csv_path = csv_path\n",
    "        df = pd.read_csv(self.csv_path)\n",
    "        self.df = self.clean_dataframe(df)\n",
    "        self.categorical_column_to_unique_categories_dict = self.get_categorical_column_to_unique_categories_dict()\n",
    "        \n",
    "    def clean_dataframe(self, df):        \n",
    "        df = df.rename(mapper={\"Flavor\": \"Flavors\"}, axis=1) # fix name of Flavor column\n",
    "\n",
    "        df.dropna(inplace=True)\n",
    "\n",
    "        remove_null_cols = [\n",
    "            \"Rating\",\n",
    "            \"Type\",\n",
    "            \"Effects\",\n",
    "            \"Flavors\"\n",
    "        ]\n",
    "        masks = [(df[col] == 0.0) | (df[col] == \"None\") | (df[col].isnull()) for col in remove_null_cols]\n",
    "        mask = ~np.logical_or.reduce(masks)\n",
    "        df = df[mask]\n",
    "        \n",
    "        for col in self.categorical_list_columns:\n",
    "            df[col] = [s.lower().split(',') for s in list(df[col])]\n",
    "        \n",
    "        df.reset_index(drop=True, inplace=True)\n",
    "        \n",
    "        return df\n",
    "        \n",
    "    def get_categorical_column_to_unique_categories_dict(self):\n",
    "        categorical_column_to_unique_categories_dict = {}\n",
    "        \n",
    "        for col in self.categorical_single_columns:\n",
    "            categorical_column_to_unique_categories_dict[col] = sorted(list(np.unique(self.df[col])))\n",
    "            \n",
    "        for col in self.categorical_list_columns:\n",
    "            categorical_column_to_unique_categories_dict[col] = sorted(list(np.unique([category for categories_list in self.df[col] for category in categories_list])))\n",
    "            \n",
    "        return categorical_column_to_unique_categories_dict\n",
    "\n",
    "    def transform_strain_to_x(self, strain):\n",
    "        # strain should be a dict whose keys are the categorical columns\n",
    "        x = []\n",
    "        \n",
    "        for col in self.categorical_single_columns:\n",
    "            unique_categories = self.categorical_column_to_unique_categories_dict[col]\n",
    "            category_witnessed = strain[col]\n",
    "            assert category_witnessed in set(unique_categories)\n",
    "            x += [1.0 if category == category_witnessed else 0 for category in unique_categories]\n",
    "        \n",
    "        for col in self.categorical_list_columns:\n",
    "            unique_categories = self.categorical_column_to_unique_categories_dict[col]\n",
    "            categories_list = strain[col]\n",
    "            assert set(categories_list).issubset(set(unique_categories))\n",
    "            #x += [1 if category in categories_list else 0 for category in unique_categories]\n",
    "            x += [float(1/len(categories_list)) if category in categories_list else 0 for category in unique_categories] # divides value by number of non-zero values of same category type\n",
    "\n",
    "        return np.array(x)\n",
    "\n",
    "    def get_X(self):        \n",
    "        X = np.array([self.transform_strain_to_x(strain) for strain in self.df.to_dict(\"records\")])\n",
    "        \n",
    "        return X\n",
    "    \n",
    "    def get_y(self):\n",
    "        return np.array(self.df[\"Rating\"])\n",
    "    "
   ]
  },
  {
   "cell_type": "code",
   "execution_count": 4,
   "metadata": {},
   "outputs": [],
   "source": [
    "analysis = CannabisStrainAnalysis(CSV_PATH)\n"
   ]
  },
  {
   "cell_type": "markdown",
   "metadata": {},
   "source": [
    "Each i^th strain has been transformed into two features:\n",
    "\n",
    "- X_i: a vector encoding the type, effects, and flavor of the strain.\n",
    "\n",
    "- y_i: a float representing the rating of the strain. "
   ]
  },
  {
   "cell_type": "markdown",
   "metadata": {},
   "source": [
    "Here is an example of the transformation of a strain to its corresponding X_i vector:"
   ]
  },
  {
   "cell_type": "code",
   "execution_count": 5,
   "metadata": {},
   "outputs": [
    {
     "data": {
      "text/plain": [
       "array([1.        , 0.        , 0.        , 0.        , 0.        ,\n",
       "       0.        , 0.5       , 0.        , 0.        , 0.        ,\n",
       "       0.        , 0.5       , 0.        , 0.        , 0.        ,\n",
       "       0.        , 0.        , 0.        , 0.        , 0.        ,\n",
       "       0.        , 0.        , 0.        , 0.        , 0.        ,\n",
       "       0.        , 0.        , 0.        , 0.33333333, 0.        ,\n",
       "       0.        , 0.33333333, 0.        , 0.        , 0.        ,\n",
       "       0.        , 0.        , 0.        , 0.        , 0.        ,\n",
       "       0.        , 0.        , 0.        , 0.        , 0.        ,\n",
       "       0.        , 0.        , 0.        , 0.        , 0.        ,\n",
       "       0.        , 0.        , 0.        , 0.        , 0.        ,\n",
       "       0.        , 0.        , 0.        , 0.33333333, 0.        ,\n",
       "       0.        , 0.        , 0.        , 0.        , 0.        ,\n",
       "       0.        , 0.        ])"
      ]
     },
     "execution_count": 5,
     "metadata": {},
     "output_type": "execute_result"
    }
   ],
   "source": [
    "analysis.transform_strain_to_x({\n",
    "    \"Type\": \"hybrid\",\n",
    "    \"Effects\": [\"hungry\", \"energetic\"],\n",
    "    \"Flavors\": [\"earthy\", \"citrus\", \"sweet\"]\n",
    "})"
   ]
  },
  {
   "cell_type": "code",
   "execution_count": 6,
   "metadata": {
    "scrolled": true
   },
   "outputs": [
    {
     "data": {
      "text/plain": [
       "(2155, 67)"
      ]
     },
     "execution_count": 6,
     "metadata": {},
     "output_type": "execute_result"
    }
   ],
   "source": [
    "analysis.get_X().shape"
   ]
  },
  {
   "cell_type": "code",
   "execution_count": 10,
   "metadata": {},
   "outputs": [],
   "source": [
    "X = sparse.csr_matrix(analysis.get_X())\n",
    "y = analysis.get_y()\n",
    "X_train, X_test, y_train, y_test = train_test_split(X, y, test_size=0.2, random_state=42)"
   ]
  },
  {
   "cell_type": "markdown",
   "metadata": {},
   "source": [
    "## Baseline Algorithm: Just Predict The Mean"
   ]
  },
  {
   "cell_type": "code",
   "execution_count": 27,
   "metadata": {},
   "outputs": [
    {
     "data": {
      "text/plain": [
       "0.11045012475708034"
      ]
     },
     "execution_count": 27,
     "metadata": {},
     "output_type": "execute_result"
    }
   ],
   "source": [
    "y_pred = np.array([np.mean(y_train)] * len(y_test))\n",
    "metrics.mean_squared_error(y_test, y_pred)"
   ]
  },
  {
   "cell_type": "markdown",
   "metadata": {},
   "source": [
    "## Simple Algorithm: Linear Regression"
   ]
  },
  {
   "cell_type": "code",
   "execution_count": 11,
   "metadata": {},
   "outputs": [
    {
     "data": {
      "text/plain": [
       "0.11530658014837322"
      ]
     },
     "execution_count": 11,
     "metadata": {},
     "output_type": "execute_result"
    }
   ],
   "source": [
    "reg = linear_model.LinearRegression().fit(X_train, y_train)\n",
    "y_pred = reg.predict(X_test)\n",
    "metrics.mean_squared_error(y_test, y_pred)"
   ]
  },
  {
   "cell_type": "markdown",
   "metadata": {},
   "source": [
    "## Complex Algorithm: Factorization Machines"
   ]
  },
  {
   "cell_type": "code",
   "execution_count": 23,
   "metadata": {},
   "outputs": [
    {
     "data": {
      "text/plain": [
       "0.12333409659444766"
      ]
     },
     "execution_count": 23,
     "metadata": {},
     "output_type": "execute_result"
    }
   ],
   "source": [
    "fm = als.FMRegression(n_iter=1000, rank=2, l2_reg_w=0.1, l2_reg_V=0.5)\n",
    "fm.fit(X_train, y_train)\n",
    "y_pred = fm.predict(X_test)\n",
    "metrics.mean_squared_error(y_test, y_pred)"
   ]
  },
  {
   "cell_type": "markdown",
   "metadata": {},
   "source": [
    "## Observations"
   ]
  },
  {
   "cell_type": "markdown",
   "metadata": {},
   "source": [
    "Both algorithms attempted perform slightly worse than just predicting the mean rating. Given this, it is likely that the data set is not very informative and there are not meaningful patterns to be found between the type, effects, and flavors of a cannabis strain and its corresponding rating.\n",
    "\n",
    "In other words, it is unlikely that the rating of a given cannabis strain has much to do with its listed features. "
   ]
  },
  {
   "cell_type": "code",
   "execution_count": null,
   "metadata": {},
   "outputs": [],
   "source": []
  }
 ],
 "metadata": {
  "kernelspec": {
   "display_name": "Python 3",
   "language": "python",
   "name": "python3"
  },
  "language_info": {
   "codemirror_mode": {
    "name": "ipython",
    "version": 3
   },
   "file_extension": ".py",
   "mimetype": "text/x-python",
   "name": "python",
   "nbconvert_exporter": "python",
   "pygments_lexer": "ipython3",
   "version": "3.8.5"
  }
 },
 "nbformat": 4,
 "nbformat_minor": 4
}
